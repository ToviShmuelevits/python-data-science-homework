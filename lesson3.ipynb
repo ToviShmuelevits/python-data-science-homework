{
 "cells": [
  {
   "cell_type": "code",
   "execution_count": 3,
   "id": "852e826c-2c4a-4e9f-8419-5a78290d0ff7",
   "metadata": {},
   "outputs": [
    {
     "name": "stdout",
     "output_type": "stream",
     "text": [
      "Requirement already satisfied: numpy in c:\\python310\\lib\\site-packages (2.2.5)Note: you may need to restart the kernel to use updated packages.\n",
      "\n"
     ]
    },
    {
     "name": "stderr",
     "output_type": "stream",
     "text": [
      "\n",
      "[notice] A new release of pip is available: 23.3.2 -> 25.1.1\n",
      "[notice] To update, run: python.exe -m pip install --upgrade pip\n"
     ]
    }
   ],
   "source": [
    "pip install numpy"
   ]
  },
  {
   "cell_type": "code",
   "execution_count": 4,
   "id": "bcb0070b-fb5c-481e-9568-826586eb1cd4",
   "metadata": {},
   "outputs": [],
   "source": [
    "import numpy as np"
   ]
  },
  {
   "cell_type": "code",
   "execution_count": 6,
   "id": "2e27818b-4227-4fa1-8f8e-8e42bd1a2a85",
   "metadata": {},
   "outputs": [
    {
     "data": {
      "text/plain": [
       "array([12, 47,  4, 38, 30, 39, 20, 18, 29, 33], dtype=int32)"
      ]
     },
     "execution_count": 6,
     "metadata": {},
     "output_type": "execute_result"
    }
   ],
   "source": [
    "arr = np.random.randint(1,50, size = (10))\n",
    "arr\n",
    "arr"
   ]
  },
  {
   "cell_type": "code",
   "execution_count": 7,
   "id": "f6a149d5-355e-4719-bd1d-376dcd07c9fe",
   "metadata": {},
   "outputs": [
    {
     "data": {
      "text/plain": [
       "np.float64(27.0)"
      ]
     },
     "execution_count": 7,
     "metadata": {},
     "output_type": "execute_result"
    }
   ],
   "source": [
    "np.mean(arr)"
   ]
  },
  {
   "cell_type": "code",
   "execution_count": 11,
   "id": "a04ec485-ad59-4dcd-946c-49c944aacb19",
   "metadata": {},
   "outputs": [
    {
     "data": {
      "text/plain": [
       "array([[16, 32,  7, 28, 20],\n",
       "       [24, 96, 87, 96, 96]], dtype=int32)"
      ]
     },
     "execution_count": 11,
     "metadata": {},
     "output_type": "execute_result"
    }
   ],
   "source": [
    "arr2 = np.random.randint(1,100, size = (2,5))\n",
    "arr2"
   ]
  },
  {
   "cell_type": "code",
   "execution_count": 12,
   "id": "93f7def3-990a-42d8-b49f-1f8686d30b01",
   "metadata": {},
   "outputs": [
    {
     "data": {
      "text/plain": [
       "10"
      ]
     },
     "execution_count": 12,
     "metadata": {},
     "output_type": "execute_result"
    }
   ],
   "source": [
    "np.size(arr)"
   ]
  },
  {
   "cell_type": "code",
   "execution_count": 3,
   "id": "1086e48e-9940-4eb2-b81e-65f9a05ee5aa",
   "metadata": {},
   "outputs": [
    {
     "name": "stdout",
     "output_type": "stream",
     "text": [
      "Collecting numpy\n",
      "  Downloading numpy-2.2.5-cp313-cp313-win_amd64.whl.metadata (60 kB)\n",
      "Downloading numpy-2.2.5-cp313-cp313-win_amd64.whl (12.6 MB)\n",
      "   ---------------------------------------- 0.0/12.6 MB ? eta -:--:--\n",
      "   ---------------------------------------- 0.0/12.6 MB ? eta -:--:--\n",
      "    --------------------------------------- 0.3/12.6 MB ? eta -:--:--\n",
      "   - -------------------------------------- 0.5/12.6 MB 909.4 kB/s eta 0:00:14\n",
      "   -- ------------------------------------- 0.8/12.6 MB 997.2 kB/s eta 0:00:12\n",
      "   --- ------------------------------------ 1.0/12.6 MB 1.0 MB/s eta 0:00:12\n",
      "   ---- ----------------------------------- 1.3/12.6 MB 1.1 MB/s eta 0:00:11\n",
      "   ---- ----------------------------------- 1.6/12.6 MB 1.0 MB/s eta 0:00:11\n",
      "   ---- ----------------------------------- 1.6/12.6 MB 1.0 MB/s eta 0:00:11\n",
      "   ----- ---------------------------------- 1.8/12.6 MB 1.0 MB/s eta 0:00:11\n",
      "   ------ --------------------------------- 2.1/12.6 MB 959.6 kB/s eta 0:00:11\n",
      "   ------ --------------------------------- 2.1/12.6 MB 959.6 kB/s eta 0:00:11\n",
      "   ------- -------------------------------- 2.4/12.6 MB 962.5 kB/s eta 0:00:11\n",
      "   -------- ------------------------------- 2.6/12.6 MB 958.5 kB/s eta 0:00:11\n",
      "   --------- ------------------------------ 2.9/12.6 MB 956.4 kB/s eta 0:00:11\n",
      "   --------- ------------------------------ 2.9/12.6 MB 956.4 kB/s eta 0:00:11\n",
      "   --------- ------------------------------ 3.1/12.6 MB 956.7 kB/s eta 0:00:10\n",
      "   ---------- ----------------------------- 3.4/12.6 MB 957.6 kB/s eta 0:00:10\n",
      "   ----------- ---------------------------- 3.7/12.6 MB 962.1 kB/s eta 0:00:10\n",
      "   ------------ --------------------------- 3.9/12.6 MB 963.8 kB/s eta 0:00:10\n",
      "   ------------- -------------------------- 4.2/12.6 MB 963.3 kB/s eta 0:00:09\n",
      "   -------------- ------------------------- 4.5/12.6 MB 977.3 kB/s eta 0:00:09\n",
      "   -------------- ------------------------- 4.5/12.6 MB 977.3 kB/s eta 0:00:09\n",
      "   -------------- ------------------------- 4.5/12.6 MB 977.3 kB/s eta 0:00:09\n",
      "   -------------- ------------------------- 4.7/12.6 MB 944.4 kB/s eta 0:00:09\n",
      "   --------------- ------------------------ 5.0/12.6 MB 954.5 kB/s eta 0:00:09\n",
      "   ---------------- ----------------------- 5.2/12.6 MB 958.0 kB/s eta 0:00:08\n",
      "   ----------------- ---------------------- 5.5/12.6 MB 963.8 kB/s eta 0:00:08\n",
      "   ------------------ --------------------- 5.8/12.6 MB 971.4 kB/s eta 0:00:08\n",
      "   ------------------- -------------------- 6.0/12.6 MB 976.7 kB/s eta 0:00:07\n",
      "   ------------------- -------------------- 6.3/12.6 MB 987.9 kB/s eta 0:00:07\n",
      "   -------------------- ------------------- 6.6/12.6 MB 986.3 kB/s eta 0:00:07\n",
      "   -------------------- ------------------- 6.6/12.6 MB 986.3 kB/s eta 0:00:07\n",
      "   --------------------- ------------------ 6.8/12.6 MB 965.8 kB/s eta 0:00:07\n",
      "   --------------------- ------------------ 6.8/12.6 MB 965.8 kB/s eta 0:00:07\n",
      "   ---------------------- ----------------- 7.1/12.6 MB 957.9 kB/s eta 0:00:06\n",
      "   ---------------------- ----------------- 7.1/12.6 MB 957.9 kB/s eta 0:00:06\n",
      "   ----------------------- ---------------- 7.3/12.6 MB 934.6 kB/s eta 0:00:06\n",
      "   ------------------------ --------------- 7.6/12.6 MB 929.9 kB/s eta 0:00:06\n",
      "   ------------------------ --------------- 7.6/12.6 MB 929.9 kB/s eta 0:00:06\n",
      "   ------------------------ --------------- 7.6/12.6 MB 929.9 kB/s eta 0:00:06\n",
      "   ------------------------ --------------- 7.9/12.6 MB 905.6 kB/s eta 0:00:06\n",
      "   ------------------------ --------------- 7.9/12.6 MB 905.6 kB/s eta 0:00:06\n",
      "   ------------------------ --------------- 7.9/12.6 MB 905.6 kB/s eta 0:00:06\n",
      "   ------------------------- -------------- 8.1/12.6 MB 865.0 kB/s eta 0:00:06\n",
      "   -------------------------- ------------- 8.4/12.6 MB 874.9 kB/s eta 0:00:05\n",
      "   --------------------------- ------------ 8.7/12.6 MB 874.6 kB/s eta 0:00:05\n",
      "   --------------------------- ------------ 8.7/12.6 MB 874.6 kB/s eta 0:00:05\n",
      "   ---------------------------- ----------- 8.9/12.6 MB 872.9 kB/s eta 0:00:05\n",
      "   ----------------------------- ---------- 9.2/12.6 MB 872.6 kB/s eta 0:00:04\n",
      "   ----------------------------- ---------- 9.2/12.6 MB 872.6 kB/s eta 0:00:04\n",
      "   ----------------------------- ---------- 9.4/12.6 MB 866.2 kB/s eta 0:00:04\n",
      "   ----------------------------- ---------- 9.4/12.6 MB 866.2 kB/s eta 0:00:04\n",
      "   ------------------------------ --------- 9.7/12.6 MB 866.5 kB/s eta 0:00:04\n",
      "   ------------------------------ --------- 9.7/12.6 MB 866.5 kB/s eta 0:00:04\n",
      "   ------------------------------- -------- 10.0/12.6 MB 853.9 kB/s eta 0:00:04\n",
      "   ------------------------------- -------- 10.0/12.6 MB 853.9 kB/s eta 0:00:04\n",
      "   -------------------------------- ------- 10.2/12.6 MB 843.8 kB/s eta 0:00:03\n",
      "   -------------------------------- ------- 10.2/12.6 MB 843.8 kB/s eta 0:00:03\n",
      "   --------------------------------- ------ 10.5/12.6 MB 827.6 kB/s eta 0:00:03\n",
      "   --------------------------------- ------ 10.5/12.6 MB 827.6 kB/s eta 0:00:03\n",
      "   ---------------------------------- ----- 10.7/12.6 MB 824.3 kB/s eta 0:00:03\n",
      "   ---------------------------------- ----- 10.7/12.6 MB 824.3 kB/s eta 0:00:03\n",
      "   ---------------------------------- ----- 11.0/12.6 MB 823.5 kB/s eta 0:00:02\n",
      "   ----------------------------------- ---- 11.3/12.6 MB 822.9 kB/s eta 0:00:02\n",
      "   ----------------------------------- ---- 11.3/12.6 MB 822.9 kB/s eta 0:00:02\n",
      "   ------------------------------------ --- 11.5/12.6 MB 825.2 kB/s eta 0:00:02\n",
      "   ------------------------------------- -- 11.8/12.6 MB 827.2 kB/s eta 0:00:02\n",
      "   -------------------------------------- - 12.1/12.6 MB 827.8 kB/s eta 0:00:01\n",
      "   -------------------------------------- - 12.1/12.6 MB 827.8 kB/s eta 0:00:01\n",
      "   -------------------------------------- - 12.3/12.6 MB 829.6 kB/s eta 0:00:01\n",
      "   ---------------------------------------- 12.6/12.6 MB 835.9 kB/s eta 0:00:00\n",
      "Installing collected packages: numpy\n",
      "Successfully installed numpy-2.2.5\n",
      "Note: you may need to restart the kernel to use updated packages.\n"
     ]
    },
    {
     "name": "stderr",
     "output_type": "stream",
     "text": [
      "\n",
      "[notice] A new release of pip is available: 24.3.1 -> 25.1.1\n",
      "[notice] To update, run: python.exe -m pip install --upgrade pip\n"
     ]
    }
   ],
   "source": [
    "pip install numpy"
   ]
  },
  {
   "cell_type": "code",
   "execution_count": 4,
   "id": "571303a0-2b66-4a31-9269-f02ed4c64661",
   "metadata": {},
   "outputs": [],
   "source": [
    "import numpy as np"
   ]
  },
  {
   "cell_type": "code",
   "execution_count": 6,
   "id": "413906e6-9df3-4954-858c-e9e33e9762bb",
   "metadata": {},
   "outputs": [
    {
     "data": {
      "text/plain": [
       "array([12, 16, 16])"
      ]
     },
     "execution_count": 6,
     "metadata": {},
     "output_type": "execute_result"
    }
   ],
   "source": [
    "a = np.array([5,8,7])\n",
    "b = np.array([7,8,9])\n",
    "ab = np.add(a,b)\n",
    "ab"
   ]
  },
  {
   "cell_type": "code",
   "execution_count": 7,
   "id": "8debb117-d54c-4077-8310-9dd941e6b1ec",
   "metadata": {},
   "outputs": [
    {
     "data": {
      "text/plain": [
       "np.float64(14.666666666666666)"
      ]
     },
     "execution_count": 7,
     "metadata": {},
     "output_type": "execute_result"
    }
   ],
   "source": [
    "np.mean(ab)"
   ]
  },
  {
   "cell_type": "code",
   "execution_count": null,
   "id": "7819eb81-a451-43f3-a674-f50cd45a611c",
   "metadata": {},
   "outputs": [],
   "source": [
    "arr = np.random.randint(1,50, size = (10))"
   ]
  }
 ],
 "metadata": {
  "kernelspec": {
   "display_name": "Python 3 (ipykernel)",
   "language": "python",
   "name": "python3"
  },
  "language_info": {
   "codemirror_mode": {
    "name": "ipython",
    "version": 3
   },
   "file_extension": ".py",
   "mimetype": "text/x-python",
   "name": "python",
   "nbconvert_exporter": "python",
   "pygments_lexer": "ipython3",
   "version": "3.13.1"
  }
 },
 "nbformat": 4,
 "nbformat_minor": 5
}
